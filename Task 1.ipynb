{
 "cells": [
  {
   "cell_type": "markdown",
   "id": "3b674a8d",
   "metadata": {},
   "source": [
    "# GRIP- Data Science and Business Analytics - Feb\"2022\n",
    "\n",
    "**Task 1- Prediction using supervised ML**\n",
    "\n",
    "Aurthor: **Sania Agarwal**\n",
    "\n",
    "We will be working on [Student score dataset](http://bit.ly/w-data) .\n",
    "\n",
    "**Problem Statement(s):**\n",
    "1. Create a model to predict the scores of students based on the number of study hours.\n",
    "2. What will be pridicted score if student studied for 9.25 hour/day?\n"
   ]
  },
  {
   "cell_type": "markdown",
   "id": "84ae813a",
   "metadata": {},
   "source": [
    "# Reading dataset"
   ]
  },
  {
   "cell_type": "code",
   "execution_count": 48,
   "id": "378593f5",
   "metadata": {},
   "outputs": [],
   "source": [
    "#Importing libraries required for prediction\n",
    "import pandas as pd              #This library is used to import data set and clean it.\n",
    "import matplotlib.pyplot as plt  #This library is used for visualisation plots\n",
    "%matplotlib inline               "
   ]
  },
  {
   "cell_type": "code",
   "execution_count": 3,
   "id": "23733870",
   "metadata": {},
   "outputs": [
    {
     "name": "stdout",
     "output_type": "stream",
     "text": [
      "<class 'pandas.core.frame.DataFrame'>\n",
      "RangeIndex: 25 entries, 0 to 24\n",
      "Data columns (total 2 columns):\n",
      " #   Column  Non-Null Count  Dtype  \n",
      "---  ------  --------------  -----  \n",
      " 0   Hours   25 non-null     float64\n",
      " 1   Scores  25 non-null     int64  \n",
      "dtypes: float64(1), int64(1)\n",
      "memory usage: 528.0 bytes\n"
     ]
    }
   ],
   "source": [
    "#Reading Data from the link\n",
    "url=\"http://bit.ly/w-data\"\n",
    "data=pd.read_csv(url)\n",
    "data.info()"
   ]
  },
  {
   "cell_type": "code",
   "execution_count": 51,
   "id": "5250885e",
   "metadata": {},
   "outputs": [
    {
     "name": "stdout",
     "output_type": "stream",
     "text": [
      "Shape of the dataset is (25, 2)\n"
     ]
    },
    {
     "data": {
      "text/html": [
       "<div>\n",
       "<style scoped>\n",
       "    .dataframe tbody tr th:only-of-type {\n",
       "        vertical-align: middle;\n",
       "    }\n",
       "\n",
       "    .dataframe tbody tr th {\n",
       "        vertical-align: top;\n",
       "    }\n",
       "\n",
       "    .dataframe thead th {\n",
       "        text-align: right;\n",
       "    }\n",
       "</style>\n",
       "<table border=\"1\" class=\"dataframe\">\n",
       "  <thead>\n",
       "    <tr style=\"text-align: right;\">\n",
       "      <th></th>\n",
       "      <th>Hours</th>\n",
       "      <th>Scores</th>\n",
       "    </tr>\n",
       "  </thead>\n",
       "  <tbody>\n",
       "    <tr>\n",
       "      <th>0</th>\n",
       "      <td>2.5</td>\n",
       "      <td>21</td>\n",
       "    </tr>\n",
       "    <tr>\n",
       "      <th>1</th>\n",
       "      <td>5.1</td>\n",
       "      <td>47</td>\n",
       "    </tr>\n",
       "    <tr>\n",
       "      <th>2</th>\n",
       "      <td>3.2</td>\n",
       "      <td>27</td>\n",
       "    </tr>\n",
       "    <tr>\n",
       "      <th>3</th>\n",
       "      <td>8.5</td>\n",
       "      <td>75</td>\n",
       "    </tr>\n",
       "    <tr>\n",
       "      <th>4</th>\n",
       "      <td>3.5</td>\n",
       "      <td>30</td>\n",
       "    </tr>\n",
       "  </tbody>\n",
       "</table>\n",
       "</div>"
      ],
      "text/plain": [
       "   Hours  Scores\n",
       "0    2.5      21\n",
       "1    5.1      47\n",
       "2    3.2      27\n",
       "3    8.5      75\n",
       "4    3.5      30"
      ]
     },
     "execution_count": 51,
     "metadata": {},
     "output_type": "execute_result"
    }
   ],
   "source": [
    "print(f'Shape of the dataset is {data.shape}')\n",
    "data.head() #First 5 rows of dataset"
   ]
  },
  {
   "cell_type": "markdown",
   "id": "659e4512",
   "metadata": {},
   "source": [
    "# Observations about Dataset\n",
    "\n",
    "1. Dataset has two columns namely:\n",
    "\n",
    "    **Hours**: *Number of hours studend study*\n",
    "    \n",
    "    **Scores**: *Score of the studend*\n",
    "\n",
    "\n",
    "2. There are **25** such *Hours-Scores* pairs. \n",
    "3. There is **no missing** data."
   ]
  },
  {
   "cell_type": "markdown",
   "id": "da3c2729",
   "metadata": {},
   "source": [
    "# Visualisation of the relationship between Hours and Scores\n",
    "\n",
    "Let's plot our data points on 2-D graph to eyeball our dataset and see if we can manually find any relationship between the data."
   ]
  },
  {
   "cell_type": "code",
   "execution_count": 5,
   "id": "721e3c11",
   "metadata": {},
   "outputs": [
    {
     "data": {
      "image/png": "[encoded data removed]",
      "text/plain": [
       "<Figure size 432x288 with 1 Axes>"
      ]
     },
     "metadata": {
      "needs_background": "light"
     },
     "output_type": "display_data"
    }
   ],
   "source": [
    "# Plotting the distribution of scores\n",
    "plt.scatter(data['Hours'], data['Scores'],c=\"red\")  \n",
    "plt.title('Hours vs Score')\n",
    "plt.ylabel('Score obtained')  \n",
    "plt.xlabel(\"Hours Studied\")\n",
    "plt.show()"
   ]
  },
  {
   "cell_type": "markdown",
   "id": "b0af1540",
   "metadata": {},
   "source": [
    "From the graph above, we can observe clearly that there is a positive linear relation between the number of hours studied and percentage of score.Hence we can use linear regression model to predict the scores obtained for based on number of hours studied."
   ]
  },
  {
   "cell_type": "markdown",
   "id": "4d200095",
   "metadata": {},
   "source": [
    "# Preparing the Dataset\n"
   ]
  },
  {
   "cell_type": "markdown",
   "id": "40468620",
   "metadata": {},
   "source": [
    "Now we will divide the data into \"attributes\" (inputs) and \"labels\" (outputs)."
   ]
  },
  {
   "cell_type": "code",
   "execution_count": 21,
   "id": "bfbbaec9",
   "metadata": {},
   "outputs": [],
   "source": [
    "X=data.iloc[:,:-1].values #Attributes\n",
    "y=data.iloc[:,1].values #Labels"
   ]
  },
  {
   "cell_type": "markdown",
   "id": "26eacdac",
   "metadata": {},
   "source": [
    "The next step is to split this data into training and test sets.\n",
    "\n",
    "We'll do this by using Scikit-Learn's built-in train_test_split() method:"
   ]
  },
  {
   "cell_type": "code",
   "execution_count": 57,
   "id": "2fe55369",
   "metadata": {},
   "outputs": [
    {
     "name": "stdout",
     "output_type": "stream",
     "text": [
      "Size of traning data 20 data points\n",
      "Size of testing data 5 data points\n"
     ]
    }
   ],
   "source": [
    "from sklearn.model_selection import train_test_split\n",
    "X_train, X_test, y_train, y_test = train_test_split(X, y,test_size=0.2,random_state=0)\n",
    "print(f'Size of traning data {X_train.shape[0]} data points')\n",
    "print(f'Size of testing data {X_test.shape[0]} data points')"
   ]
  },
  {
   "cell_type": "markdown",
   "id": "e9cb18cf",
   "metadata": {},
   "source": [
    "# Training The Model"
   ]
  },
  {
   "cell_type": "code",
   "execution_count": 58,
   "id": "6224ee27",
   "metadata": {},
   "outputs": [],
   "source": [
    "from sklearn.linear_model import LinearRegression  \n",
    "regressor = LinearRegression()  \n",
    "regressor.fit(X_train, y_train);"
   ]
  },
  {
   "cell_type": "markdown",
   "id": "801a6eff",
   "metadata": {},
   "source": [
    "# Preidictions\n",
    "\n",
    "Now as we have trained the model , its time to make prediction."
   ]
  },
  {
   "cell_type": "code",
   "execution_count": 16,
   "id": "16fddb92",
   "metadata": {},
   "outputs": [],
   "source": [
    "y_pred = regressor.predict(X_test) # Predicting the scores for X_test data"
   ]
  },
  {
   "cell_type": "code",
   "execution_count": 27,
   "id": "c472ee3d",
   "metadata": {},
   "outputs": [
    {
     "data": {
      "text/html": [
       "<div>\n",
       "<style scoped>\n",
       "    .dataframe tbody tr th:only-of-type {\n",
       "        vertical-align: middle;\n",
       "    }\n",
       "\n",
       "    .dataframe tbody tr th {\n",
       "        vertical-align: top;\n",
       "    }\n",
       "\n",
       "    .dataframe thead th {\n",
       "        text-align: right;\n",
       "    }\n",
       "</style>\n",
       "<table border=\"1\" class=\"dataframe\">\n",
       "  <thead>\n",
       "    <tr style=\"text-align: right;\">\n",
       "      <th></th>\n",
       "      <th>Actual</th>\n",
       "      <th>Predicted</th>\n",
       "    </tr>\n",
       "  </thead>\n",
       "  <tbody>\n",
       "    <tr>\n",
       "      <th>0</th>\n",
       "      <td>20</td>\n",
       "      <td>16.884145</td>\n",
       "    </tr>\n",
       "    <tr>\n",
       "      <th>1</th>\n",
       "      <td>27</td>\n",
       "      <td>33.732261</td>\n",
       "    </tr>\n",
       "    <tr>\n",
       "      <th>2</th>\n",
       "      <td>69</td>\n",
       "      <td>75.357018</td>\n",
       "    </tr>\n",
       "    <tr>\n",
       "      <th>3</th>\n",
       "      <td>30</td>\n",
       "      <td>26.794801</td>\n",
       "    </tr>\n",
       "    <tr>\n",
       "      <th>4</th>\n",
       "      <td>62</td>\n",
       "      <td>60.491033</td>\n",
       "    </tr>\n",
       "  </tbody>\n",
       "</table>\n",
       "</div>"
      ],
      "text/plain": [
       "   Actual  Predicted\n",
       "0      20  16.884145\n",
       "1      27  33.732261\n",
       "2      69  75.357018\n",
       "3      30  26.794801\n",
       "4      62  60.491033"
      ]
     },
     "execution_count": 27,
     "metadata": {},
     "output_type": "execute_result"
    }
   ],
   "source": [
    "df=pd.DataFrame({\"Actual\":y_test,\"Predicted\":y_pred})\n",
    "df"
   ]
  },
  {
   "cell_type": "code",
   "execution_count": 95,
   "id": "b72ddec1",
   "metadata": {},
   "outputs": [
    {
     "data": {
      "image/png": "[encoded data removed]",
      "text/plain": [
       "<Figure size 432x288 with 1 Axes>"
      ]
     },
     "metadata": {
      "needs_background": "light"
     },
     "output_type": "display_data"
    }
   ],
   "source": [
    "plt.plot(X_train, y_train, 'ro', label='training_data')\n",
    "plt.plot(X_test, y_test, 'o', label='testing_data',c=\"black\")\n",
    "plt.plot(X_test, y_pred, 'g-', label='predicted_data')\n",
    "plt.xlabel('Hours')\n",
    "plt.ylabel('Scores')\n",
    "plt.legend()\n",
    "plt.show()"
   ]
  },
  {
   "cell_type": "markdown",
   "id": "d8a5fd69",
   "metadata": {},
   "source": [
    "It is evident from the graph that predicted scores obtained is quiet closer to what is given in the dataset for particular hours studied. Hence out model is able to make prediction (Scores Obtained) for the given input(Hours Studied) approximatey close."
   ]
  },
  {
   "cell_type": "markdown",
   "id": "90a35e09",
   "metadata": {},
   "source": [
    "# Acurracy of Model"
   ]
  },
  {
   "cell_type": "code",
   "execution_count": 80,
   "id": "f4a14066",
   "metadata": {},
   "outputs": [
    {
     "name": "stdout",
     "output_type": "stream",
     "text": [
      "Mean Absolute Error: 4.18\n"
     ]
    }
   ],
   "source": [
    "from sklearn import metrics\n",
    "print(f'Mean Absolute Error: {metrics.mean_absolute_error(y_test,y_pred):.2f}')"
   ]
  },
  {
   "cell_type": "code",
   "execution_count": 87,
   "id": "5618f250",
   "metadata": {},
   "outputs": [
    {
     "name": "stdout",
     "output_type": "stream",
     "text": [
      "R2-score :0.95\n"
     ]
    }
   ],
   "source": [
    "print(f'R2-score :{metrics.r2_score(y_test,y_pred):.2f}')"
   ]
  },
  {
   "cell_type": "code",
   "execution_count": 98,
   "id": "514c0002",
   "metadata": {},
   "outputs": [
    {
     "name": "stdout",
     "output_type": "stream",
     "text": [
      "Standartd deviation :4.65\n"
     ]
    }
   ],
   "source": [
    "print(f'Standartd deviation :{(metrics.mean_squared_error(y_test,y_pred))**(1/2):.2f}')"
   ]
  },
  {
   "cell_type": "markdown",
   "id": "72aacacb",
   "metadata": {},
   "source": [
    "# What will be predicted score if student studied for 9.25 hour/day?"
   ]
  },
  {
   "cell_type": "code",
   "execution_count": 85,
   "id": "29c178df",
   "metadata": {},
   "outputs": [
    {
     "name": "stdout",
     "output_type": "stream",
     "text": [
      "If studend studies for 9.25 hours/day, then predicted score of that student will be 93.692 .\n"
     ]
    }
   ],
   "source": [
    "hour=[[9.25]]\n",
    "predicted_score=regressor.predict(hour)\n",
    "print(f'If studend studies for 9.25 hours/day, then predicted score of that student will be {predicted_score[0]:.3f} .')"
   ]
  }
 ],
 "metadata": {
  "kernelspec": {
   "display_name": "Python 3 (ipykernel)",
   "language": "python",
   "name": "python3"
  },
  "language_info": {
   "codemirror_mode": {
    "name": "ipython",
    "version": 3
   },
   "file_extension": ".py",
   "mimetype": "text/x-python",
   "name": "python",
   "nbconvert_exporter": "python",
   "pygments_lexer": "ipython3",
   "version": "3.9.7"
  }
 },
 "nbformat": 4,
 "nbformat_minor": 5
}
