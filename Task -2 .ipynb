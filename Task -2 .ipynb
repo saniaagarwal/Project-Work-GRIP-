{
 "cells": [
  {
   "cell_type": "markdown",
   "id": "0cb64689",
   "metadata": {},
   "source": [
    "# GRIP- Data Science and Business Analytics - Feb\"2022\n",
    "**Task 2- Prediction using unsupervised ML**\n",
    "\n",
    "Aurthor: **Sania Agarwal**\n",
    "\n",
    "We will be working on [Iris](https://bit.ly/3kXTdox) dataset .\n",
    "\n",
    "**Problem Statement(s):**\n",
    "\n",
    "Predict optimum number of clusters and represent visually."
   ]
  },
  {
   "cell_type": "code",
   "execution_count": 58,
   "id": "573ab1a0",
   "metadata": {},
   "outputs": [],
   "source": [
    "#Importing libraries required for prediction\n",
    "import pandas as pd                   #for data manipulation and analysis\n",
    "from sklearn.cluster import KMeans    #for K-means clustering of data\n",
    "import matplotlib.pyplot as plt       #for data visualisation\n",
    "%matplotlib inline \n",
    "import seaborn as sns\n",
    "\n",
    "import warnings as wg                 #to ingore warnings, if any, in the program\n",
    "wg.filterwarnings(\"ignore\")"
   ]
  },
  {
   "cell_type": "markdown",
   "id": "791330be",
   "metadata": {},
   "source": [
    "# Importing and reading dataset"
   ]
  },
  {
   "cell_type": "code",
   "execution_count": 54,
   "id": "d17d85ad",
   "metadata": {},
   "outputs": [
    {
     "data": {
      "text/html": [
       "<div>\n",
       "<style scoped>\n",
       "    .dataframe tbody tr th:only-of-type {\n",
       "        vertical-align: middle;\n",
       "    }\n",
       "\n",
       "    .dataframe tbody tr th {\n",
       "        vertical-align: top;\n",
       "    }\n",
       "\n",
       "    .dataframe thead th {\n",
       "        text-align: right;\n",
       "    }\n",
       "</style>\n",
       "<table border=\"1\" class=\"dataframe\">\n",
       "  <thead>\n",
       "    <tr style=\"text-align: right;\">\n",
       "      <th></th>\n",
       "      <th>SepalLengthCm</th>\n",
       "      <th>SepalWidthCm</th>\n",
       "      <th>PetalLengthCm</th>\n",
       "      <th>PetalWidthCm</th>\n",
       "      <th>Species</th>\n",
       "    </tr>\n",
       "  </thead>\n",
       "  <tbody>\n",
       "    <tr>\n",
       "      <th>1</th>\n",
       "      <td>5.1</td>\n",
       "      <td>3.5</td>\n",
       "      <td>1.4</td>\n",
       "      <td>0.2</td>\n",
       "      <td>Iris-setosa</td>\n",
       "    </tr>\n",
       "    <tr>\n",
       "      <th>2</th>\n",
       "      <td>4.9</td>\n",
       "      <td>3.0</td>\n",
       "      <td>1.4</td>\n",
       "      <td>0.2</td>\n",
       "      <td>Iris-setosa</td>\n",
       "    </tr>\n",
       "    <tr>\n",
       "      <th>3</th>\n",
       "      <td>4.7</td>\n",
       "      <td>3.2</td>\n",
       "      <td>1.3</td>\n",
       "      <td>0.2</td>\n",
       "      <td>Iris-setosa</td>\n",
       "    </tr>\n",
       "    <tr>\n",
       "      <th>4</th>\n",
       "      <td>4.6</td>\n",
       "      <td>3.1</td>\n",
       "      <td>1.5</td>\n",
       "      <td>0.2</td>\n",
       "      <td>Iris-setosa</td>\n",
       "    </tr>\n",
       "    <tr>\n",
       "      <th>5</th>\n",
       "      <td>5.0</td>\n",
       "      <td>3.6</td>\n",
       "      <td>1.4</td>\n",
       "      <td>0.2</td>\n",
       "      <td>Iris-setosa</td>\n",
       "    </tr>\n",
       "    <tr>\n",
       "      <th>...</th>\n",
       "      <td>...</td>\n",
       "      <td>...</td>\n",
       "      <td>...</td>\n",
       "      <td>...</td>\n",
       "      <td>...</td>\n",
       "    </tr>\n",
       "    <tr>\n",
       "      <th>146</th>\n",
       "      <td>6.7</td>\n",
       "      <td>3.0</td>\n",
       "      <td>5.2</td>\n",
       "      <td>2.3</td>\n",
       "      <td>Iris-virginica</td>\n",
       "    </tr>\n",
       "    <tr>\n",
       "      <th>147</th>\n",
       "      <td>6.3</td>\n",
       "      <td>2.5</td>\n",
       "      <td>5.0</td>\n",
       "      <td>1.9</td>\n",
       "      <td>Iris-virginica</td>\n",
       "    </tr>\n",
       "    <tr>\n",
       "      <th>148</th>\n",
       "      <td>6.5</td>\n",
       "      <td>3.0</td>\n",
       "      <td>5.2</td>\n",
       "      <td>2.0</td>\n",
       "      <td>Iris-virginica</td>\n",
       "    </tr>\n",
       "    <tr>\n",
       "      <th>149</th>\n",
       "      <td>6.2</td>\n",
       "      <td>3.4</td>\n",
       "      <td>5.4</td>\n",
       "      <td>2.3</td>\n",
       "      <td>Iris-virginica</td>\n",
       "    </tr>\n",
       "    <tr>\n",
       "      <th>150</th>\n",
       "      <td>5.9</td>\n",
       "      <td>3.0</td>\n",
       "      <td>5.1</td>\n",
       "      <td>1.8</td>\n",
       "      <td>Iris-virginica</td>\n",
       "    </tr>\n",
       "  </tbody>\n",
       "</table>\n",
       "<p>150 rows × 5 columns</p>\n",
       "</div>"
      ],
      "text/plain": [
       "     SepalLengthCm  SepalWidthCm  PetalLengthCm  PetalWidthCm         Species\n",
       "1              5.1           3.5            1.4           0.2     Iris-setosa\n",
       "2              4.9           3.0            1.4           0.2     Iris-setosa\n",
       "3              4.7           3.2            1.3           0.2     Iris-setosa\n",
       "4              4.6           3.1            1.5           0.2     Iris-setosa\n",
       "5              5.0           3.6            1.4           0.2     Iris-setosa\n",
       "..             ...           ...            ...           ...             ...\n",
       "146            6.7           3.0            5.2           2.3  Iris-virginica\n",
       "147            6.3           2.5            5.0           1.9  Iris-virginica\n",
       "148            6.5           3.0            5.2           2.0  Iris-virginica\n",
       "149            6.2           3.4            5.4           2.3  Iris-virginica\n",
       "150            5.9           3.0            5.1           1.8  Iris-virginica\n",
       "\n",
       "[150 rows x 5 columns]"
      ]
     },
     "execution_count": 54,
     "metadata": {},
     "output_type": "execute_result"
    }
   ],
   "source": [
    "#Reading Data from csv file\n",
    "data=pd.read_csv(\"iris.csv\",index_col=0)\n",
    "data.index.name=None\n",
    "data"
   ]
  },
  {
   "cell_type": "code",
   "execution_count": 57,
   "id": "ebcdab2b",
   "metadata": {},
   "outputs": [
    {
     "name": "stdout",
     "output_type": "stream",
     "text": [
      "<class 'pandas.core.frame.DataFrame'>\n",
      "Int64Index: 150 entries, 1 to 150\n",
      "Data columns (total 5 columns):\n",
      " #   Column         Non-Null Count  Dtype  \n",
      "---  ------         --------------  -----  \n",
      " 0   SepalLengthCm  150 non-null    float64\n",
      " 1   SepalWidthCm   150 non-null    float64\n",
      " 2   PetalLengthCm  150 non-null    float64\n",
      " 3   PetalWidthCm   150 non-null    float64\n",
      " 4   Species        150 non-null    object \n",
      "dtypes: float64(4), object(1)\n",
      "memory usage: 7.0+ KB\n"
     ]
    }
   ],
   "source": [
    "data.info()"
   ]
  },
  {
   "cell_type": "code",
   "execution_count": 28,
   "id": "46fd77a4",
   "metadata": {},
   "outputs": [
    {
     "data": {
      "text/plain": [
       "count             150\n",
       "unique              3\n",
       "top       Iris-setosa\n",
       "freq               50\n",
       "Name: Species, dtype: object"
      ]
     },
     "execution_count": 28,
     "metadata": {},
     "output_type": "execute_result"
    }
   ],
   "source": [
    "data[\"Species\"].describe()"
   ]
  },
  {
   "cell_type": "code",
   "execution_count": 64,
   "id": "1351cc67",
   "metadata": {},
   "outputs": [
    {
     "data": {
      "text/plain": [
       "Index(['SepalLengthCm', 'SepalWidthCm', 'PetalLengthCm', 'PetalWidthCm',\n",
       "       'Species'],\n",
       "      dtype='object')"
      ]
     },
     "execution_count": 64,
     "metadata": {},
     "output_type": "execute_result"
    }
   ],
   "source": [
    "data.columns"
   ]
  },
  {
   "cell_type": "markdown",
   "id": "808c9bc4",
   "metadata": {},
   "source": [
    "**Observation about IRIS Dataset**\n",
    "1. There are 150 rows and 5 columns i.e there are 150 data points with each data point having 5 features.\n",
    "2. Five columns are :\n",
    "   a) SepalLengthCm\n",
    "   b) SepalWidthCm\n",
    "   c) PetalLengthCm\n",
    "   d) PetalWidthCm\n",
    "   e) Species\n",
    "3. There are no null entries.\n",
    "4. There are three kind of species which most of them being 'Iris-setosa'."
   ]
  },
  {
   "cell_type": "markdown",
   "id": "cc8280b8",
   "metadata": {},
   "source": [
    "We will now drop the label (species) column from the dataset as it is unsupervised learning."
   ]
  },
  {
   "cell_type": "code",
   "execution_count": 71,
   "id": "bd00b40f",
   "metadata": {},
   "outputs": [],
   "source": [
    "iris = pd.DataFrame(data)\n",
    "iris_df = iris.drop(columns='Species' ) #Dropping column label 'Species' from the dataset\n"
   ]
  },
  {
   "cell_type": "code",
   "execution_count": 72,
   "id": "d909b6ad",
   "metadata": {},
   "outputs": [
    {
     "data": {
      "text/html": [
       "<div>\n",
       "<style scoped>\n",
       "    .dataframe tbody tr th:only-of-type {\n",
       "        vertical-align: middle;\n",
       "    }\n",
       "\n",
       "    .dataframe tbody tr th {\n",
       "        vertical-align: top;\n",
       "    }\n",
       "\n",
       "    .dataframe thead th {\n",
       "        text-align: right;\n",
       "    }\n",
       "</style>\n",
       "<table border=\"1\" class=\"dataframe\">\n",
       "  <thead>\n",
       "    <tr style=\"text-align: right;\">\n",
       "      <th></th>\n",
       "      <th>SepalLengthCm</th>\n",
       "      <th>SepalWidthCm</th>\n",
       "      <th>PetalLengthCm</th>\n",
       "      <th>PetalWidthCm</th>\n",
       "    </tr>\n",
       "  </thead>\n",
       "  <tbody>\n",
       "    <tr>\n",
       "      <th>1</th>\n",
       "      <td>5.1</td>\n",
       "      <td>3.5</td>\n",
       "      <td>1.4</td>\n",
       "      <td>0.2</td>\n",
       "    </tr>\n",
       "    <tr>\n",
       "      <th>2</th>\n",
       "      <td>4.9</td>\n",
       "      <td>3.0</td>\n",
       "      <td>1.4</td>\n",
       "      <td>0.2</td>\n",
       "    </tr>\n",
       "    <tr>\n",
       "      <th>3</th>\n",
       "      <td>4.7</td>\n",
       "      <td>3.2</td>\n",
       "      <td>1.3</td>\n",
       "      <td>0.2</td>\n",
       "    </tr>\n",
       "    <tr>\n",
       "      <th>4</th>\n",
       "      <td>4.6</td>\n",
       "      <td>3.1</td>\n",
       "      <td>1.5</td>\n",
       "      <td>0.2</td>\n",
       "    </tr>\n",
       "    <tr>\n",
       "      <th>5</th>\n",
       "      <td>5.0</td>\n",
       "      <td>3.6</td>\n",
       "      <td>1.4</td>\n",
       "      <td>0.2</td>\n",
       "    </tr>\n",
       "  </tbody>\n",
       "</table>\n",
       "</div>"
      ],
      "text/plain": [
       "   SepalLengthCm  SepalWidthCm  PetalLengthCm  PetalWidthCm\n",
       "1            5.1           3.5            1.4           0.2\n",
       "2            4.9           3.0            1.4           0.2\n",
       "3            4.7           3.2            1.3           0.2\n",
       "4            4.6           3.1            1.5           0.2\n",
       "5            5.0           3.6            1.4           0.2"
      ]
     },
     "execution_count": 72,
     "metadata": {},
     "output_type": "execute_result"
    }
   ],
   "source": [
    "#Printing first five rows\n",
    "iris_df.head()"
   ]
  },
  {
   "cell_type": "code",
   "execution_count": 73,
   "id": "49ad2a60",
   "metadata": {},
   "outputs": [
    {
     "data": {
      "text/html": [
       "<div>\n",
       "<style scoped>\n",
       "    .dataframe tbody tr th:only-of-type {\n",
       "        vertical-align: middle;\n",
       "    }\n",
       "\n",
       "    .dataframe tbody tr th {\n",
       "        vertical-align: top;\n",
       "    }\n",
       "\n",
       "    .dataframe thead th {\n",
       "        text-align: right;\n",
       "    }\n",
       "</style>\n",
       "<table border=\"1\" class=\"dataframe\">\n",
       "  <thead>\n",
       "    <tr style=\"text-align: right;\">\n",
       "      <th></th>\n",
       "      <th>SepalLengthCm</th>\n",
       "      <th>SepalWidthCm</th>\n",
       "      <th>PetalLengthCm</th>\n",
       "      <th>PetalWidthCm</th>\n",
       "    </tr>\n",
       "  </thead>\n",
       "  <tbody>\n",
       "    <tr>\n",
       "      <th>146</th>\n",
       "      <td>6.7</td>\n",
       "      <td>3.0</td>\n",
       "      <td>5.2</td>\n",
       "      <td>2.3</td>\n",
       "    </tr>\n",
       "    <tr>\n",
       "      <th>147</th>\n",
       "      <td>6.3</td>\n",
       "      <td>2.5</td>\n",
       "      <td>5.0</td>\n",
       "      <td>1.9</td>\n",
       "    </tr>\n",
       "    <tr>\n",
       "      <th>148</th>\n",
       "      <td>6.5</td>\n",
       "      <td>3.0</td>\n",
       "      <td>5.2</td>\n",
       "      <td>2.0</td>\n",
       "    </tr>\n",
       "    <tr>\n",
       "      <th>149</th>\n",
       "      <td>6.2</td>\n",
       "      <td>3.4</td>\n",
       "      <td>5.4</td>\n",
       "      <td>2.3</td>\n",
       "    </tr>\n",
       "    <tr>\n",
       "      <th>150</th>\n",
       "      <td>5.9</td>\n",
       "      <td>3.0</td>\n",
       "      <td>5.1</td>\n",
       "      <td>1.8</td>\n",
       "    </tr>\n",
       "  </tbody>\n",
       "</table>\n",
       "</div>"
      ],
      "text/plain": [
       "     SepalLengthCm  SepalWidthCm  PetalLengthCm  PetalWidthCm\n",
       "146            6.7           3.0            5.2           2.3\n",
       "147            6.3           2.5            5.0           1.9\n",
       "148            6.5           3.0            5.2           2.0\n",
       "149            6.2           3.4            5.4           2.3\n",
       "150            5.9           3.0            5.1           1.8"
      ]
     },
     "execution_count": 73,
     "metadata": {},
     "output_type": "execute_result"
    }
   ],
   "source": [
    "# Printing last five rows\n",
    "iris_df.tail()"
   ]
  },
  {
   "cell_type": "markdown",
   "id": "8316b400",
   "metadata": {},
   "source": [
    "# Visual representation of dataset"
   ]
  },
  {
   "cell_type": "code",
   "execution_count": 78,
   "id": "dc92fa65",
   "metadata": {},
   "outputs": [
    {
     "data": {
      "image/png": "[encoded data removed]",
      "text/plain": [
       "<Figure size 460.1x360 with 1 Axes>"
      ]
     },
     "metadata": {},
     "output_type": "display_data"
    }
   ],
   "source": [
    "sns.set_theme()\n",
    "sns.relplot(data=iris_df,x='SepalLengthCm',y='SepalWidthCm',hue='PetalLengthCm',palette='RdYlGn',size='PetalWidthCm')\n",
    "plt.show()"
   ]
  },
  {
   "cell_type": "markdown",
   "id": "acd38e4b",
   "metadata": {},
   "source": [
    "From the above visualization, we can see that the optimal number of clusters should be around 3. But visualizing the data alone cannot always give the right answer."
   ]
  },
  {
   "cell_type": "markdown",
   "id": "0853d6f6",
   "metadata": {},
   "source": [
    "# Finding optimal number of Clusters"
   ]
  },
  {
   "cell_type": "markdown",
   "id": "d18df814",
   "metadata": {},
   "source": [
    "To find optimum number of clusters, we use the **Elbow Method**.\n",
    "\n",
    "The Elbow method runs K-means clustering on a dataset for a range of values and then for each value of k, computes\n",
    "an average score.\n",
    "The Elbow Method is the most popular method to determine the optimal number of clusters into which the data may be clustered!\n",
    "For each value, within-cluster sum of squares value is computed and stored in some list.\n",
    "These values are then plotted against the number of clusters used before.\n",
    "The location of bend in the graph indicates the optimal number of clusters./"
   ]
  },
  {
   "cell_type": "code",
   "execution_count": 79,
   "id": "2ee3eabd",
   "metadata": {},
   "outputs": [],
   "source": [
    "cluster_sse = []                       \n",
    "cluster_range = range(1,8)                          #Specifying the range of clusters\n",
    "\n",
    "for k in cluster_range:                             \n",
    "    km = KMeans(n_clusters=k)                 #Here we are using k-means clustering algorithm to find k number of \n",
    "    km = km.fit(iris_df)                      #centroid(minimum) and then plot set of data around them as nearest \n",
    "    cluster_sse.append(km.inertia_)           #as possible using sum of squares method."
   ]
  },
  {
   "cell_type": "code",
   "execution_count": 84,
   "id": "11f048b6",
   "metadata": {},
   "outputs": [
    {
     "data": {
      "image/png": "[encoded data removed]",
      "text/plain": [
       "<Figure size 432x288 with 1 Axes>"
      ]
     },
     "metadata": {},
     "output_type": "display_data"
    }
   ],
   "source": [
    "plt.plot(cluster_range,cluster_sse)\n",
    "plt.title('The elbow method')\n",
    "plt.xlabel('Number of clusters')\n",
    "plt.ylabel('Within cluster sum of squares') \n",
    "plt.show()"
   ]
  },
  {
   "cell_type": "markdown",
   "id": "1b4698c0",
   "metadata": {},
   "source": [
    "From this we can choose the number of clusters as **3**."
   ]
  },
  {
   "cell_type": "markdown",
   "id": "513135f6",
   "metadata": {},
   "source": [
    "# Applying K-Clustering on dataset"
   ]
  },
  {
   "cell_type": "code",
   "execution_count": 92,
   "id": "75aad2c3",
   "metadata": {},
   "outputs": [],
   "source": [
    "model  = KMeans(n_clusters = 3, init = 'k-means++', max_iter = 500, n_init = 10, random_state = 0) \n",
    "#Number of clusters to form is 3\n",
    "#max_iter represents the maximum number of iterations for the k-means algorithm, n_init is the no of times the K-Means algorithm\n",
    "#will be run with different centroid seeds\n",
    "pred = model.fit_predict(iris_df) "
   ]
  },
  {
   "cell_type": "code",
   "execution_count": 98,
   "id": "7ef9cfda",
   "metadata": {},
   "outputs": [
    {
     "data": {
      "text/html": [
       "<div>\n",
       "<style scoped>\n",
       "    .dataframe tbody tr th:only-of-type {\n",
       "        vertical-align: middle;\n",
       "    }\n",
       "\n",
       "    .dataframe tbody tr th {\n",
       "        vertical-align: top;\n",
       "    }\n",
       "\n",
       "    .dataframe thead th {\n",
       "        text-align: right;\n",
       "    }\n",
       "</style>\n",
       "<table border=\"1\" class=\"dataframe\">\n",
       "  <thead>\n",
       "    <tr style=\"text-align: right;\">\n",
       "      <th></th>\n",
       "      <th>SepalLengthCm</th>\n",
       "      <th>SepalWidthCm</th>\n",
       "      <th>PetalLengthCm</th>\n",
       "      <th>PetalWidthCm</th>\n",
       "      <th>Cluster</th>\n",
       "    </tr>\n",
       "  </thead>\n",
       "  <tbody>\n",
       "    <tr>\n",
       "      <th>1</th>\n",
       "      <td>5.1</td>\n",
       "      <td>3.5</td>\n",
       "      <td>1.4</td>\n",
       "      <td>0.2</td>\n",
       "      <td>0</td>\n",
       "    </tr>\n",
       "    <tr>\n",
       "      <th>2</th>\n",
       "      <td>4.9</td>\n",
       "      <td>3.0</td>\n",
       "      <td>1.4</td>\n",
       "      <td>0.2</td>\n",
       "      <td>0</td>\n",
       "    </tr>\n",
       "    <tr>\n",
       "      <th>3</th>\n",
       "      <td>4.7</td>\n",
       "      <td>3.2</td>\n",
       "      <td>1.3</td>\n",
       "      <td>0.2</td>\n",
       "      <td>0</td>\n",
       "    </tr>\n",
       "    <tr>\n",
       "      <th>4</th>\n",
       "      <td>4.6</td>\n",
       "      <td>3.1</td>\n",
       "      <td>1.5</td>\n",
       "      <td>0.2</td>\n",
       "      <td>0</td>\n",
       "    </tr>\n",
       "    <tr>\n",
       "      <th>5</th>\n",
       "      <td>5.0</td>\n",
       "      <td>3.6</td>\n",
       "      <td>1.4</td>\n",
       "      <td>0.2</td>\n",
       "      <td>0</td>\n",
       "    </tr>\n",
       "  </tbody>\n",
       "</table>\n",
       "</div>"
      ],
      "text/plain": [
       "   SepalLengthCm  SepalWidthCm  PetalLengthCm  PetalWidthCm  Cluster\n",
       "1            5.1           3.5            1.4           0.2        0\n",
       "2            4.9           3.0            1.4           0.2        0\n",
       "3            4.7           3.2            1.3           0.2        0\n",
       "4            4.6           3.1            1.5           0.2        0\n",
       "5            5.0           3.6            1.4           0.2        0"
      ]
     },
     "execution_count": 98,
     "metadata": {},
     "output_type": "execute_result"
    }
   ],
   "source": [
    "iris_df[\"Cluster\"]=pred #Addind new column name 'Cluster' in iris_df\n",
    "iris_df.head()"
   ]
  },
  {
   "cell_type": "code",
   "execution_count": 90,
   "id": "a873fe69",
   "metadata": {},
   "outputs": [],
   "source": [
    "#As there are 3 cluster 0, 1 ,2 hence we can divide dataframe in three parts each contatinig datapoints for particular Cluster\n",
    "df1=iris_df[iris_df['Cluster']==0] \n",
    "df2=iris_df[iris_df['Cluster']==1]\n",
    "df3=iris_df[iris_df['Cluster']==2]"
   ]
  },
  {
   "cell_type": "code",
   "execution_count": 106,
   "id": "c4cb0778",
   "metadata": {},
   "outputs": [
    {
     "data": {
      "text/plain": [
       "array([[ 5.00600000e+00,  3.41800000e+00,  1.46400000e+00,\n",
       "         2.44000000e-01,  1.00000000e+00],\n",
       "       [ 5.90161290e+00,  2.74838710e+00,  4.39354839e+00,\n",
       "         1.43387097e+00, -1.22124533e-15],\n",
       "       [ 6.85000000e+00,  3.07368421e+00,  5.74210526e+00,\n",
       "         2.07105263e+00,  2.00000000e+00]])"
      ]
     },
     "execution_count": 106,
     "metadata": {},
     "output_type": "execute_result"
    }
   ],
   "source": [
    "#Getting coordinates of centroid \n",
    "model.cluster_centers_"
   ]
  },
  {
   "cell_type": "markdown",
   "id": "dacc0276",
   "metadata": {},
   "source": [
    "# Visually representing cluster"
   ]
  },
  {
   "cell_type": "code",
   "execution_count": 111,
   "id": "f08d2e8f",
   "metadata": {},
   "outputs": [
    {
     "data": {
      "image/png": "[encoded data removed]",
      "text/plain": [
       "<Figure size 432x288 with 1 Axes>"
      ]
     },
     "metadata": {},
     "output_type": "display_data"
    }
   ],
   "source": [
    "plt.scatter(df1.iloc[:,0], df1.iloc[:,1], s = 25, c = 'Yellow', label = 'Iris-setosa')#Scatter diagram for Iris-setosa species\n",
    "plt.scatter(df2.iloc[:,0], df2.iloc[:,1], s = 25, c = 'Red', label = 'Iris-versicolor') #Scatter diagram for Iris-versicolor species\n",
    "plt.scatter(df3.iloc[:,0], df3.iloc[:,1], s = 25, c = 'Green', label = 'Iris-virginica')#Scatter diagram for Iris-virginica species\n",
    "plt.scatter(model.cluster_centers_[:, 0], model.cluster_centers_[:, 1],color = 'Purple',marker='*', label = 'Centroids')\n",
    "plt.title('K-Means Cluster')      \n",
    "plt.legend()                      \n",
    "plt.show()"
   ]
  },
  {
   "cell_type": "markdown",
   "id": "87fc8a34",
   "metadata": {},
   "source": [
    "Hence with this, we have predicted the optimal number of clusters and represented it visually using K-Mean Clustering Algorithm ."
   ]
  }
 ],
 "metadata": {
  "kernelspec": {
   "display_name": "Python 3 (ipykernel)",
   "language": "python",
   "name": "python3"
  },
  "language_info": {
   "codemirror_mode": {
    "name": "ipython",
    "version": 3
   },
   "file_extension": ".py",
   "mimetype": "text/x-python",
   "name": "python",
   "nbconvert_exporter": "python",
   "pygments_lexer": "ipython3",
   "version": "3.9.7"
  }
 },
 "nbformat": 4,
 "nbformat_minor": 5
}
